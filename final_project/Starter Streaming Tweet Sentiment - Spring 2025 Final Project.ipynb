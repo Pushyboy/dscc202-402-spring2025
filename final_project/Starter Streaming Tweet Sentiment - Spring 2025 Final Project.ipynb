{
 "cells": [
  {
   "cell_type": "markdown",
   "metadata": {
    "application/vnd.databricks.v1+cell": {
     "cellMetadata": {
      "byteLimit": 2048000,
      "rowLimit": 10000
     },
     "inputWidgets": {},
     "nuid": "fc749083-2211-485c-943f-640e198b2c70",
     "showTitle": false,
     "tableResultSettingsMap": {},
     "title": ""
    }
   },
   "source": [
    "## DSCC202-402 Data Science at Scale Final Project\n",
    "### Tracking Tweet sentiment at scale using a pretrained transformer (classifier)\n",
    "<p>Consider the following illustration of the end to end system that you will be building.  Each student should do their own work.  The project will demonstrate your understanding of Spark Streaming, the medalion data architecture using Delta Lake, Spark Inference at Scale using an MLflow packaged model as well as Exploritory Data Analysis and System Tracking and Monitoring.</p>\n",
    "<br><br>\n",
    "<img src=\"https://data-science-at-scale.s3.amazonaws.com/images/pipeline.drawio.png\">\n",
    "\n",
    "<p>\n",
    "You will be pulling an updated copy of the course GitHub repositiory: <a href=\"https://github.com/lpalum/dscc202-402-spring2025\">The Repo</a>.  \n",
    "\n",
    "Once you have updated your fork of the repository you should see the following template project that is resident in the final_project directory.\n",
    "</p>\n",
    "\n",
    "<img src=\"https://data-science-at-scale.s3.amazonaws.com/images/notebooks.drawio.png\">\n",
    "\n",
    "<p>\n",
    "You can then pull your project into the Databrick Workspace using the <a href=\"https://github.com/apps/databricks\">Databricks App on Github</a> or by cloning the repo to your laptop and then uploading the final_project directory and its contents to your workspace using file imports.  Your choice.\n",
    "\n",
    "<p>\n",
    "Work your way through this notebook which will give you the steps required to submit a complete and compliant project.  The following illustration and associated data dictionary specifies the transformations and data that you are to generate for each step in the medallion pipeline.\n",
    "</p>\n",
    "<br><br>\n",
    "<img src=\"https://data-science-at-scale.s3.amazonaws.com/images/dataframes.drawio.png\">\n",
    "\n",
    "#### Bronze Data - raw ingest\n",
    "- date - string in the source json\n",
    "- user - string in the source json\n",
    "- text - tweet string in the source json\n",
    "- sentiment - the given sentiment of the text as determined by an unknown model that is provided in the source json\n",
    "- source_file - the path of the source json file the this row of data was read from\n",
    "- processing_time - a timestamp of when you read this row from the source json\n",
    "\n",
    "#### Silver Data - Bronze Preprocessing\n",
    "- timestamp - convert date string in the bronze data to a timestamp\n",
    "- mention - every @username mentioned in the text string in the bronze data gets a row in this silver data table.\n",
    "- cleaned_text - the bronze text data with the mentions (@username) removed.\n",
    "- sentiment - the given sentiment that was associated with the text in the bronze table.\n",
    "\n",
    "#### Gold Data - Silver Table Inference\n",
    "- timestamp - the timestamp from the silver data table rows\n",
    "- mention - the mention from the silver data table rows\n",
    "- cleaned_text - the cleaned_text from the silver data table rows\n",
    "- sentiment - the given sentiment from the silver data table rows\n",
    "- predicted_score - score out of 100 from the Hugging Face Sentiment Transformer\n",
    "- predicted_sentiment - string representation of the sentiment\n",
    "- sentiment_id - 0 for negative and 1 for postive associated with the given sentiment\n",
    "- predicted_sentiment_id - 0 for negative and 1 for positive assocaited with the Hugging Face Sentiment Transformer\n",
    "\n",
    "#### Application Data - Gold Table Aggregation\n",
    "- min_timestamp - the oldest timestamp on a given mention (@username)\n",
    "- max_timestamp - the newest timestamp on a given mention (@username)\n",
    "- mention - the user (@username) that this row pertains to.\n",
    "- negative - total negative tweets directed at this mention (@username)\n",
    "- neutral - total neutral tweets directed at this mention (@username)\n",
    "- positive - total positive tweets directed at this mention (@username)\n",
    "\n",
    "When you are designing your approach, one of the main decisions that you will need to make is how you are going to orchestrate the streaming data processing in your pipeline.  There are several valid approaches to triggering your steams and how you will gate the execution of your pipeline.  Think through how you want to proceed and ask questions if you need guidance. The following references may be helpful:\n",
    "- [Spark Structured Streaming Programming Guide](https://spark.apache.org/docs/latest/structured-streaming-programming-guide.html)\n",
    "- [Databricks Autoloader - Cloudfiles](https://docs.databricks.com/en/ingestion/auto-loader/index.html)\n",
    "- [In class examples - Spark Structured Streaming Performance](https://dbc-f85bdc5b-07db.cloud.databricks.com/editor/notebooks/2638424645880316?o=1093580174577663)\n",
    "\n",
    "### Be sure your project runs end to end when *Run all* is executued on this notebook! (7 points)\n",
    "\n",
    "### This project is worth 25% of your final grade.\n",
    "- DSCC-202 Students have 55 possible points on this project (see points above and the instructions below)\n",
    "- DSCC-402 Students have 60 possible points on this project (one extra section to complete)"
   ]
  },
  {
   "cell_type": "code",
   "execution_count": 0,
   "metadata": {
    "application/vnd.databricks.v1+cell": {
     "cellMetadata": {
      "byteLimit": 2048000,
      "rowLimit": 10000
     },
     "inputWidgets": {},
     "nuid": "068f25d0-1387-4342-89cf-ce82a8d614ce",
     "showTitle": true,
     "tableResultSettingsMap": {},
     "title": "Pull in the Includes & Utiltites"
    }
   },
   "outputs": [],
   "source": [
    "%run ./includes/includes"
   ]
  },
  {
   "cell_type": "code",
   "execution_count": 0,
   "metadata": {
    "application/vnd.databricks.v1+cell": {
     "cellMetadata": {
      "byteLimit": 2048000,
      "rowLimit": 10000
     },
     "inputWidgets": {},
     "nuid": "6512bf1b-50e0-4a4b-84a9-e280a6260b56",
     "showTitle": true,
     "tableResultSettingsMap": {},
     "title": "Notebook Control Widgets (maybe helpful)"
    }
   },
   "outputs": [],
   "source": [
    "\"\"\"\n",
    "Adding a widget to the notebook to control the clearing of a previous run.\n",
    "or stopping the active streams using routines defined in the utilities notebook\n",
    "\"\"\"\n",
    "dbutils.widgets.removeAll()\n",
    "\n",
    "dbutils.widgets.dropdown(\"clear_previous_run\", \"No\", [\"No\",\"Yes\"])\n",
    "if (getArgument(\"clear_previous_run\") == \"Yes\"):\n",
    "    clear_previous_run()\n",
    "    print(\"Cleared all previous data.\")\n",
    "\n",
    "dbutils.widgets.dropdown(\"stop_streams\", \"No\", [\"No\",\"Yes\"])\n",
    "if (getArgument(\"stop_streams\") == \"Yes\"):\n",
    "    stop_all_streams()\n",
    "    print(\"Stopped all active streams.\")\n",
    "\n",
    "dbutils.widgets.dropdown(\"optimize_tables\", \"No\", [\"No\",\"Yes\"])\n",
    "if (getArgument(\"optimize_tables\") == \"Yes\"):\n",
    "    # Suck up those small files that we have been appending.\n",
    "    # Optimize the tables\n",
    "    optimize_table(BRONZE_DELTA)\n",
    "    optimize_table(SILVER_DELTA)\n",
    "    optimize_table(GOLD_DELTA)\n",
    "    print(\"Optimized all of the Delta Tables\")"
   ]
  },
  {
   "cell_type": "markdown",
   "metadata": {
    "application/vnd.databricks.v1+cell": {
     "cellMetadata": {
      "byteLimit": 2048000,
      "rowLimit": 10000
     },
     "inputWidgets": {},
     "nuid": "e8ce7c13-7f8f-4e11-b50c-fdaebbcf3f99",
     "showTitle": false,
     "tableResultSettingsMap": {},
     "title": ""
    }
   },
   "source": [
    "## 1.0 Import your libraries here (2 points)\n",
    "- Are your shuffle partitions consistent with your cluster and your workload?\n",
    "- Do you have the necessary libraries to perform the required operations in the pipeline/application?"
   ]
  },
  {
   "cell_type": "code",
   "execution_count": 0,
   "metadata": {
    "application/vnd.databricks.v1+cell": {
     "cellMetadata": {
      "byteLimit": 2048000,
      "rowLimit": 10000
     },
     "inputWidgets": {},
     "nuid": "67bafbb7-d34e-4e86-b159-b2e062faa1d0",
     "showTitle": false,
     "tableResultSettingsMap": {},
     "title": ""
    }
   },
   "outputs": [],
   "source": [
    "# ENTER YOUR CODE HERE\n",
    "\n",
    "# Parallelism\n",
    "spark.conf.set(\"spark.sql.shuffle.partitions\", \"8\")\n",
    "spark.conf.set(\"spark.default.parallelism\", \"8\")\n",
    "spark.conf.set(\"spark.sql.adaptive.enabled\", \"true\")\n",
    "spark.conf.set(\"spark.streaming.backpressure.enabled\", \"true\")\n",
    "\n",
    "stop_all_streams()\n",
    "clear_previous_run()"
   ]
  },
  {
   "cell_type": "markdown",
   "metadata": {
    "application/vnd.databricks.v1+cell": {
     "cellMetadata": {
      "byteLimit": 2048000,
      "rowLimit": 10000
     },
     "inputWidgets": {},
     "nuid": "2b7624b4-0aa5-46b7-9767-52f462b2c574",
     "showTitle": false,
     "tableResultSettingsMap": {},
     "title": ""
    }
   },
   "source": [
    "## 2.0 Define and execute utility functions (3 points)\n",
    "- Read the source file directory listing\n",
    "- Count the source files (how many are there?)\n",
    "- print the contents of one of the files"
   ]
  },
  {
   "cell_type": "code",
   "execution_count": 0,
   "metadata": {
    "application/vnd.databricks.v1+cell": {
     "cellMetadata": {
      "byteLimit": 2048000,
      "rowLimit": 10000
     },
     "inputWidgets": {},
     "nuid": "a59749d5-e45d-460f-9be1-33652cda2ea5",
     "showTitle": false,
     "tableResultSettingsMap": {},
     "title": ""
    }
   },
   "outputs": [],
   "source": [
    "# ENTER YOUR CODE HERE\n",
    "files = dbutils.fs.ls(TWEET_SOURCE_PATH)\n",
    "first_file = files[0].path\n",
    "print(f\"There are {len(files)} files\")\n",
    "dbutils.fs.head(first_file)"
   ]
  },
  {
   "cell_type": "markdown",
   "metadata": {
    "application/vnd.databricks.v1+cell": {
     "cellMetadata": {
      "byteLimit": 2048000,
      "rowLimit": 10000
     },
     "inputWidgets": {},
     "nuid": "1676aed7-527f-4ea7-9d3b-52544e8c1e37",
     "showTitle": false,
     "tableResultSettingsMap": {},
     "title": ""
    }
   },
   "source": [
    "## 3.0 Transform the Raw Data to Bronze Data using a stream  (8 points)\n",
    "- define the schema for the raw data\n",
    "- setup a read stream using cloudfiles and the source data format\n",
    "- setup a write stream using delta lake to append to the bronze delta table\n",
    "- enforce schema\n",
    "- allow a new schema to be merged into the bronze delta table\n",
    "- Use the defined BRONZE_CHECKPOINT and BRONZE_DELTA paths defined in the includes\n",
    "- name your raw to bronze stream as bronze_stream\n",
    "- transform the raw data to the bronze data using the data definition at the top of the notebook"
   ]
  },
  {
   "cell_type": "code",
   "execution_count": 0,
   "metadata": {
    "application/vnd.databricks.v1+cell": {
     "cellMetadata": {
      "byteLimit": 2048000,
      "rowLimit": 10000
     },
     "inputWidgets": {},
     "nuid": "c4e37574-9885-4908-bf97-609d140a8818",
     "showTitle": false,
     "tableResultSettingsMap": {},
     "title": ""
    }
   },
   "outputs": [],
   "source": [
    "# TODO - Set maxFilesPerTrigger\n",
    "# TODO - adjust processing time to be higher\n",
    "\n",
    "from pyspark.sql.functions import current_timestamp, input_file_name\n",
    "\n",
    "raw_schema = \"\"\"\n",
    "date string,\n",
    "user string,\n",
    "text string,\n",
    "sentiment string\n",
    "\"\"\"\n",
    "\n",
    "spark.sql(f\"\"\"\n",
    "CREATE TABLE IF NOT EXISTS BRONZE_TABLE (\n",
    "    date string,\n",
    "    user string,\n",
    "    text string,\n",
    "    sentiment string,\n",
    "    source_file string,\n",
    "    processing_time timestamp\n",
    ")\n",
    "USING DELTA\n",
    "LOCATION '{BRONZE_DELTA}'\n",
    "\"\"\")\n",
    "\n",
    "# Want all the streams to be treated the same\n",
    "spark.sparkContext.setLocalProperty(\"spark.scheduler.pool\", \"bronze\")\n",
    "\n",
    "bronze_stream = (spark\n",
    "      .readStream\n",
    "      .format(\"cloudFiles\")\n",
    "      .option(\"cloudFiles.format\", \"json\")\n",
    "      .option(\"maxFilesPerTrigger\", 16)\n",
    "      .schema(raw_schema)\n",
    "      .load(TWEET_SOURCE_PATH)\n",
    "      .coalesce(8)\n",
    "      .withColumn(\"source_file\", input_file_name())\n",
    "      .withColumn(\"processing_time\", current_timestamp())\n",
    "      .writeStream\n",
    "      .format(\"delta\")\n",
    "      .outputMode(\"append\")\n",
    "      .queryName(\"bronze_stream\")\n",
    "      .trigger(processingTime=\"2 seconds\")\n",
    "      .option(\"mergeSchema\", \"true\")\n",
    "      .option(\"checkpointLocation\", BRONZE_CHECKPOINT)\n",
    "      .start(BRONZE_DELTA)\n",
    ")"
   ]
  },
  {
   "cell_type": "markdown",
   "metadata": {
    "application/vnd.databricks.v1+cell": {
     "cellMetadata": {
      "byteLimit": 2048000,
      "rowLimit": 10000
     },
     "inputWidgets": {},
     "nuid": "f94a594e-1a85-458f-9fe8-959e06d2e5f0",
     "showTitle": false,
     "tableResultSettingsMap": {},
     "title": ""
    }
   },
   "source": [
    "## 4.0 Transform the Bronze Data to Silver Data using a stream (5 points)\n",
    "- setup a read stream on your bronze delta table\n",
    "- setup a write stream to append to the silver delta table\n",
    "- Use the defined SILVER_CHECKPOINT and SILVER_DELTA paths in the includes\n",
    "- name your bronze to silver stream as silver_stream\n",
    "- transform the bronze data to the silver data using the data definition at the top of the notebook"
   ]
  },
  {
   "cell_type": "code",
   "execution_count": 0,
   "metadata": {
    "application/vnd.databricks.v1+cell": {
     "cellMetadata": {
      "byteLimit": 2048000,
      "rowLimit": 10000
     },
     "inputWidgets": {},
     "nuid": "091ec59c-d968-4acf-b56f-cc9178cd0693",
     "showTitle": false,
     "tableResultSettingsMap": {},
     "title": ""
    }
   },
   "outputs": [],
   "source": [
    "# ENTER YOUR CODE HERE\n",
    "from pyspark.sql.functions import to_timestamp, regexp_extract_all, array_distinct, explode, col, regexp_replace, lit\n",
    "\n",
    "spark.sql(f\"\"\"\n",
    "CREATE TABLE IF NOT EXISTS SILVER_TABLE (\n",
    "    timestamp timestamp not null,\n",
    "    mention string not null,\n",
    "    cleaned_text string not null,\n",
    "    Sentiment string not null\n",
    ")\n",
    "USING DELTA\n",
    "LOCATION '{SILVER_DELTA}'\n",
    "\"\"\")\n",
    "\n",
    "# Setting for time format\n",
    "spark.conf.set(\"spark.sql.legacy.timeParserPolicy\",\"LEGACY\")\n",
    "\n",
    "# Want all the streams to be treated the same\n",
    "spark.sparkContext.setLocalProperty(\"spark.scheduler.pool\", \"silver\")\n",
    "\n",
    "wait_for_delta_table(BRONZE_DELTA)\n",
    "\n",
    "silver_stream = (spark\n",
    "      .readStream\n",
    "      .format(\"delta\")\n",
    "      .load(BRONZE_DELTA)\n",
    "      .withColumn(\"timestamp\", to_timestamp(col(\"date\"), \"E MMM dd HH:mm:ss z yyyy\"))\n",
    "      .withColumn(\"mention\", \n",
    "                  explode(\n",
    "                      regexp_extract_all(col(\"text\"), lit(r'@\\w+'), 0)))\n",
    "      .withColumn(\"cleaned_text\", regexp_replace(col(\"text\"), r\"@\\w+\", \"\"))\n",
    "      .select(\"timestamp\", \"mention\", \"cleaned_text\", col(\"sentiment\").alias(\"Sentiment\"))\n",
    "      .writeStream\n",
    "      .format(\"delta\")\n",
    "      .outputMode(\"append\")\n",
    "      .queryName(\"silver_stream\")\n",
    "      .trigger(processingTime=\"4 seconds\")\n",
    "      .option(\"checkpointLocation\", SILVER_CHECKPOINT)\n",
    "      .start(SILVER_DELTA)\n",
    ")"
   ]
  },
  {
   "cell_type": "markdown",
   "metadata": {
    "application/vnd.databricks.v1+cell": {
     "cellMetadata": {
      "byteLimit": 2048000,
      "rowLimit": 10000
     },
     "inputWidgets": {},
     "nuid": "9ee38aba-e340-4766-8339-71ef2ecfde3a",
     "showTitle": false,
     "tableResultSettingsMap": {},
     "title": ""
    }
   },
   "source": [
    "## 5.0 Transform the Silver Data to Gold Data using a stream (7 points)\n",
    "- setup a read stream on your silver delta table\n",
    "- setup a write stream to append to the gold delta table\n",
    "- Use the defined GOLD_CHECKPOINT and GOLD_DELTA paths defines in the includes\n",
    "- name your silver to gold stream as gold_stream\n",
    "- transform the silver data to the gold data using the data definition at the top of the notebook\n",
    "- Load the pretrained transformer sentiment classifier from the MODEL_NAME at the production level from the MLflow registry\n",
    "- Use a spark UDF to parallelize the inference across your silver data"
   ]
  },
  {
   "cell_type": "code",
   "execution_count": 0,
   "metadata": {
    "application/vnd.databricks.v1+cell": {
     "cellMetadata": {
      "byteLimit": 2048000,
      "rowLimit": 10000
     },
     "inputWidgets": {},
     "nuid": "31e8949d-c016-44a7-9f03-65f471dfd22d",
     "showTitle": false,
     "tableResultSettingsMap": {},
     "title": ""
    }
   },
   "outputs": [],
   "source": [
    "# ENTER YOUR CODE HERE\n",
    "import mlflow\n",
    "from pyspark.sql.functions import col, when, lit\n",
    "\n",
    "# Model info\n",
    "model_uri = f\"models:/{MODEL_NAME}/Production\"\n",
    "predict = mlflow.pyfunc.spark_udf(spark, model_uri)\n",
    "\n",
    "# Want all the streams to be treated the same\n",
    "spark.sparkContext.setLocalProperty(\"spark.scheduler.pool\", \"gold\")\n",
    "\n",
    "# TODO - Need to decrease offset read in at a time\n",
    "\n",
    "wait_for_delta_table(SILVER_DELTA)\n",
    "\n",
    "gold_stream = (spark\n",
    "      .readStream\n",
    "      .format(\"delta\")\n",
    "      .option(\"maxOffsetsPerTrigger\", 550)\n",
    "      .load(SILVER_DELTA)\n",
    "      .withColumn(\"prediction\", predict(col(\"cleaned_text\")))\n",
    "      .withColumn(\"predicted_score\", col(\"prediction\").score)  \n",
    "      .withColumn(\"predicted_sentiment\", col(\"prediction\").label)\n",
    "      .withColumn(\"sentiment_id\", when(col(\"sentiment\") == \"positive\", lit(1)).otherwise(lit(0)))\n",
    "      .withColumn(\"predicted_sentiment_id\", when(col(\"predicted_sentiment\") == \"NEG\", lit(0)).otherwise(lit(1)))\n",
    "      .drop(\"prediction\")\n",
    "      .writeStream\n",
    "      .format(\"delta\")\n",
    "      .outputMode(\"append\")\n",
    "      .queryName(\"gold_stream\")\n",
    "      .trigger(processingTime=\"20 seconds\")\n",
    "      .option(\"checkpointLocation\", GOLD_CHECKPOINT)\n",
    "      .start(GOLD_DELTA)\n",
    ")"
   ]
  },
  {
   "cell_type": "markdown",
   "metadata": {
    "application/vnd.databricks.v1+cell": {
     "cellMetadata": {
      "byteLimit": 2048000,
      "rowLimit": 10000
     },
     "inputWidgets": {},
     "nuid": "05cd829f-46d6-4d94-8555-887d29a33daf",
     "showTitle": false,
     "tableResultSettingsMap": {},
     "title": ""
    }
   },
   "source": [
    "## 6.0 Monitor your Streams (5 points)\n",
    "- Setup a loop that runs at least every 10 seconds\n",
    "- Print a timestamp of the monitoring query along with the list of streams, rows processed on each, and the processing time on each\n",
    "- Run the loop until all of the data is processed (0 rows read on each active stream)\n",
    "- Plot a line graph that shows the data processed by each stream over time\n",
    "- Plot a line graph that shows the average processing time on each stream over time"
   ]
  },
  {
   "cell_type": "code",
   "execution_count": 0,
   "metadata": {
    "application/vnd.databricks.v1+cell": {
     "cellMetadata": {
      "byteLimit": 2048000,
      "rowLimit": 10000
     },
     "inputWidgets": {},
     "nuid": "acbddf2c-0c20-46d9-aa42-c5aed3e2f839",
     "showTitle": false,
     "tableResultSettingsMap": {},
     "title": ""
    }
   },
   "outputs": [],
   "source": [
    "# ENTER YOUR CODE HERE\n",
    "from datetime import datetime\n",
    "import matplotlib.pyplot as plt\n",
    "\n",
    "# Print stream stats\n",
    "for i in range(0, 600):\n",
    "    time.sleep(10)\n",
    "    \n",
    "    stats = get_streaming_stats()\n",
    "\n",
    "    # Break if not streams active\n",
    "    is_active = False\n",
    "    for _, row in stats.groupby(\"query\").last().reset_index().iterrows():\n",
    "        if row[\"input_rows\"] > 0:\n",
    "            is_active = True\n",
    "            break\n",
    "        \n",
    "    if not is_active:\n",
    "        break\n",
    "\n",
    "    # Display latest stats and query info\n",
    "    latest_stats = stats.sort_values(\"elapsed_time\").groupby(\"query\").last().reset_index()\n",
    "    print(f\"\\nStatus at {datetime.now().strftime('%H:%M:%S')} (Elapsed: {i*10}s):\")\n",
    "\n",
    "    for _, row in latest_stats.iterrows():\n",
    "        print(f\"  {row['query']}: {row['input_rows']} rows, {row['processing_time']}ms processing time\")\n",
    "\n",
    "# Print final results\n",
    "df = get_streaming_stats()\n",
    "if not df.empty:\n",
    "    # Create a figure with two subplots\n",
    "    fig, (ax1, ax2) = plt.subplots(2, 1, figsize=(12, 10), sharex=True)\n",
    "    \n",
    "    # Plot processing time\n",
    "    for query in df[\"query\"].unique():\n",
    "        subset = df[df[\"query\"] == query]\n",
    "        ax1.plot(subset[\"elapsed_time\"], subset[\"processing_time\"], marker='o', linestyle='-', label=query)\n",
    "    \n",
    "    ax1.set_ylabel(\"Processing Time (ms)\")\n",
    "    ax1.set_title(f\"Spark Streaming Processing Time\")\n",
    "    ax1.legend()\n",
    "    ax1.grid(True)\n",
    "    \n",
    "    # Plot input rows\n",
    "    for query in df[\"query\"].unique():\n",
    "        subset = df[df[\"query\"] == query]\n",
    "        ax2.plot(subset[\"elapsed_time\"], subset[\"input_rows\"], marker='o', linestyle='-', label=query)\n",
    "    \n",
    "    ax2.set_xlabel(\"Elapsed Time (seconds)\")\n",
    "    ax2.set_ylabel(\"Input Rows\")\n",
    "    ax2.set_title(f\"Spark Streaming Input Rows\")\n",
    "    ax2.legend()\n",
    "    ax2.grid(True)\n",
    "    \n",
    "    plt.tight_layout()\n",
    "    plt.show()\n",
    "    \n",
    "    # Generate statistics summary\n",
    "    print(\"\\nStreaming Performance Summary:\")\n",
    "    summary = df.groupby(\"query\").agg({\n",
    "        \"processing_time\": [\"mean\", \"max\", \"min\", \"std\"],\n",
    "        \"input_rows\": [\"sum\", \"mean\", \"max\"]\n",
    "    }).reset_index()\n",
    "    display(summary)\n",
    "    "
   ]
  },
  {
   "cell_type": "markdown",
   "metadata": {
    "application/vnd.databricks.v1+cell": {
     "cellMetadata": {
      "byteLimit": 2048000,
      "rowLimit": 10000
     },
     "inputWidgets": {},
     "nuid": "9bc3e824-d218-43e5-a43b-4c6dbe31950d",
     "showTitle": false,
     "tableResultSettingsMap": {},
     "title": ""
    }
   },
   "source": [
    "## 7.0 Bronze Data Exploratory Data Analysis (5 points)\n",
    "- How many tweets are captured in your Bronze Table?\n",
    "- Are there any columns that contain Nan or Null values?  If so how many and what will you do in your silver transforms to address this?\n",
    "- Count the number of tweets by each unique user handle and sort the data by descending count.\n",
    "- How many tweets have at least one mention (@) how many tweet have no mentions (@)\n",
    "- Plot a bar chart that shows the top 20 tweeters (users)\n"
   ]
  },
  {
   "cell_type": "code",
   "execution_count": 0,
   "metadata": {
    "application/vnd.databricks.v1+cell": {
     "cellMetadata": {
      "byteLimit": 2048000,
      "rowLimit": 10000
     },
     "inputWidgets": {},
     "nuid": "33e05866-0264-43af-8a95-52e841124d60",
     "showTitle": false,
     "tableResultSettingsMap": {},
     "title": ""
    }
   },
   "outputs": [],
   "source": [
    "# ENTER YOUR CODE HERE\n",
    "\n",
    "from pyspark.sql.functions import isnotnull, size\n",
    "import matplotlib.pyplot as plt\n",
    "\n",
    "# # Count number of tweets\n",
    "bronze_df = (spark\n",
    "    .read\n",
    "    .format(\"delta\")\n",
    "    .option(\"inferSchema\", raw_schema)\n",
    "    .load(BRONZE_DELTA)\n",
    "    .cache())\n",
    "\n",
    "print(f\"Bronze Table has {bronze_df.count()} records\")\n",
    "\n",
    "# # Look for null values\n",
    "contains_null = not bronze_df.filter(\n",
    "    isnotnull(\"date\") & \n",
    "    isnotnull(\"user\") & \n",
    "    isnotnull(\"text\") & \n",
    "    isnotnull(\"sentiment\")\n",
    ").count() == bronze_df.count()\n",
    "\n",
    "print(f\"Bronze Table has null records: {contains_null}\")\n",
    "\n",
    "# # Get count by user handle \n",
    "tweets_by_unique_handle = (bronze_df\n",
    "    .groupBy(\"user\")\n",
    "    .count()\n",
    "    .sort(\"count\", ascending=False))\n",
    "\n",
    "display(tweets_by_unique_handle)\n",
    "\n",
    "# # Number of tweets with 1 or more mentions\n",
    "mentions = (bronze_df\n",
    "    .withColumn(\"mentions\", regexp_extract_all(col(\"text\"), lit(r'@\\w+'), 0))\n",
    "    .filter(size(\"mentions\") > 0)\n",
    "    .count())\n",
    "\n",
    "print(f\"There are {mentions} tweets with 1 or more mentions\")\n",
    "print(f\"There are {bronze_df.count() - mentions} tweets with 0 mentions\")\n",
    "\n",
    "# Plot a barchart with the top 20 tweeters\n",
    "fig, ax = plt.subplots()\n",
    "pandas_df = tweets_by_unique_handle.limit(20).toPandas()\n",
    "\n",
    "ax.bar(pandas_df[\"user\"], pandas_df[\"count\"])\n",
    "ax.set_title(\"Top 20 Tweeters\")\n",
    "ax.set_ylabel(\"Number of Tweets\")\n",
    "ax.set_xlabel(\"Handles\")\n",
    "ax.set_xticklabels(pandas_df[\"user\"], rotation=-90)\n",
    "\n",
    "plt.tight_layout()\n",
    "plt.show()\n"
   ]
  },
  {
   "cell_type": "markdown",
   "metadata": {
    "application/vnd.databricks.v1+cell": {
     "cellMetadata": {
      "byteLimit": 2048000,
      "rowLimit": 10000
     },
     "inputWidgets": {},
     "nuid": "0494d8b4-5a55-47fc-af12-47325f34a303",
     "showTitle": false,
     "tableResultSettingsMap": {},
     "title": ""
    }
   },
   "source": [
    "## 8.0 Capture the accuracy metrics from the gold table in MLflow  (4 points)\n",
    "Store the following in an MLflow experiment run:\n",
    "- Store the precision, recall, and F1-score as MLflow metrics\n",
    "- Store an image of the confusion matrix as an MLflow artifact\n",
    "- Store the model name and the MLflow version that was used as an MLflow parameters\n",
    "- Store the version of the Delta Table (input-silver) as an MLflow parameter"
   ]
  },
  {
   "cell_type": "code",
   "execution_count": 0,
   "metadata": {
    "application/vnd.databricks.v1+cell": {
     "cellMetadata": {
      "byteLimit": 2048000,
      "rowLimit": 10000
     },
     "inputWidgets": {},
     "nuid": "3bb174ad-67e4-4b0a-be36-ff20a760ee8b",
     "showTitle": false,
     "tableResultSettingsMap": {},
     "title": ""
    }
   },
   "outputs": [],
   "source": [
    "# ENTER YOUR CODE HERE\n",
    "from mlflow.tracking import MlflowClient\n",
    "from sklearn.metrics import classification_report, confusion_matrix, ConfusionMatrixDisplay\n",
    "\n",
    "client = MlflowClient()\n",
    "model = client.get_latest_versions(MODEL_NAME, stages=['Production'])[0]\n",
    "data_version = spark.sql(f\"DESCRIBE HISTORY '{SILVER_DELTA}' LIMIT 1\").first()['version']\n",
    "\n",
    "results_df = (spark\n",
    "           .read\n",
    "           .format(\"delta\")\n",
    "           .load(GOLD_DELTA)\n",
    "           .select(\"sentiment_id\", \"predicted_sentiment_id\")\n",
    "           .toPandas())\n",
    "\n",
    "y = results_df['sentiment_id']\n",
    "y_hat = results_df['predicted_sentiment_id']\n",
    "\n",
    "with mlflow.start_run(run_name=\"accuracy-metrics\"):\n",
    "    # Model name and version\n",
    "    mlflow.log_param(\"model_name\", MODEL_NAME)\n",
    "    mlflow.log_param(\"model_version\", model.version)\n",
    "    mlflow.log_param(\"input-silver\", data_version)\n",
    "\n",
    "    # Log precision, recall, F1-score metrics\n",
    "    report = classification_report(y, y_hat, output_dict=True)\n",
    "    mlflow.log_metric('precision_neg', report['0']['precision'])\n",
    "    mlflow.log_metric('precision_pos', report['1']['precision'])\n",
    "    mlflow.log_metric('recall_neg', report['0']['recall'])\n",
    "    mlflow.log_metric('recall_pos', report['0']['recall'])\n",
    "    mlflow.log_metric('f1_neg', report['0']['f1-score'])\n",
    "    mlflow.log_metric('f1_pos', report['1']['f1-score'])\n",
    "\n",
    "    # Store the confusion matrix as an artifact\n",
    "    cm = confusion_matrix(y, y_hat)\n",
    "    disp = ConfusionMatrixDisplay(confusion_matrix=cm, display_labels=[\"NEG\", \"POS\"])\n",
    "\n",
    "    disp.plot()\n",
    "    fig = plt.gcf()\n",
    "    mlflow.log_figure(fig, \"confusion_matrix.png\")"
   ]
  },
  {
   "cell_type": "markdown",
   "metadata": {
    "application/vnd.databricks.v1+cell": {
     "cellMetadata": {
      "byteLimit": 2048000,
      "rowLimit": 10000
     },
     "inputWidgets": {},
     "nuid": "81e0e2de-b872-4698-81cc-1669646c2183",
     "showTitle": false,
     "tableResultSettingsMap": {},
     "title": ""
    }
   },
   "source": [
    "## 9.0 Application Data Processing and Visualization (6 points)\n",
    "- How many mentions are there in the gold data total?\n",
    "- Count the number of neutral, positive and negative tweets for each mention in new columns\n",
    "- Capture the total for each mention in a new column\n",
    "- Sort the mention count totals in descending order\n",
    "- Plot a bar chart of the top 20 mentions with positive sentiment (the people who are in favor)\n",
    "- Plot a bar chart of the top 20 mentions with negative sentiment (the people who are the vilians)\n",
    "\n",
    "*note: A mention is a specific twitter user that has been \"mentioned\" in a tweet with an @user reference."
   ]
  },
  {
   "cell_type": "code",
   "execution_count": 0,
   "metadata": {
    "application/vnd.databricks.v1+cell": {
     "cellMetadata": {
      "byteLimit": 2048000,
      "rowLimit": 10000
     },
     "inputWidgets": {},
     "nuid": "8250667b-eaa5-48a1-90c7-bfe11e666e32",
     "showTitle": false,
     "tableResultSettingsMap": {},
     "title": ""
    }
   },
   "outputs": [],
   "source": [
    "# ENTER YOUR CODE HERE\n",
    "\n",
    "from pyspark.sql.functions import count\n",
    "\n",
    "gold_df = (spark\n",
    "           .read\n",
    "           .format(\"delta\")\n",
    "           .load(GOLD_DELTA))\n",
    "\n",
    "# How many mentions are in the gold data?\n",
    "print(f\"There are {gold_df.count()} mentions\")\n",
    "\n",
    "# Count the number of neutral positive and negative tweets for each mention\n",
    "# Sort mention count totals in descending order\n",
    "sentiment_count = (gold_df\n",
    "    .groupBy(\"mention\")\n",
    "    .agg(\n",
    "        count(when(col(\"predicted_sentiment\") == \"POS\", True)).alias(\"positive\"),\n",
    "        count(when(col(\"predicted_sentiment\") == \"NEU\", True)).alias(\"neutral\"),\n",
    "        count(when(col(\"predicted_sentiment\") == \"NEG\", True)).alias(\"negative\")\n",
    "     )\n",
    "    .withColumn(\"total_mentions\", col(\"positive\") + col(\"neutral\") + col(\"negative\"))\n",
    "    .orderBy(col(\"total_mentions\").desc())\n",
    "    .cache())\n",
    "\n",
    "display(sentiment_count)\n",
    "\n",
    "t20_pos = (sentiment_count\n",
    "    .select(\"mention\", \"positive\")\n",
    "    .orderBy(col(\"positive\").desc())\n",
    "    .limit(20)\n",
    "    .toPandas())\n",
    "\n",
    "t20_neg = (sentiment_count\n",
    "    .select(\"mention\", \"negative\")\n",
    "    .orderBy(col(\"negative\").desc())\n",
    "    .limit(20)\n",
    "    .toPandas())\n",
    "\n",
    "# Plot the data\n",
    "fig, (ax1, ax2) = plt.subplots(2, 1, figsize=(9, 11))\n",
    "\n",
    "ax1.bar(t20_pos[\"mention\"], t20_pos[\"positive\"])\n",
    "ax1.set_title(\"Top 20 Handles by Positive Sentiment\")\n",
    "ax1.set_ylabel(\"Number of Postive Mentions\")\n",
    "ax1.set_xlabel(\"Handle\")\n",
    "ax1.set_xticklabels(t20_pos[\"mention\"], rotation=-90)\n",
    "\n",
    "ax2.bar(t20_neg[\"mention\"], t20_neg[\"negative\"])\n",
    "ax2.set_title(\"Top 20 Handles by Negative Sentiment\")\n",
    "ax2.set_ylabel(\"Number of Negative Mentions\")\n",
    "ax2.set_xlabel(\"Handle\")\n",
    "ax2.set_xticklabels(t20_neg[\"mention\"], rotation=-90)\n",
    "\n",
    "plt.tight_layout()\n",
    "plt.show()\n"
   ]
  },
  {
   "cell_type": "markdown",
   "metadata": {
    "application/vnd.databricks.v1+cell": {
     "cellMetadata": {
      "byteLimit": 2048000,
      "rowLimit": 10000
     },
     "inputWidgets": {},
     "nuid": "5d5add3f-0c13-4d81-86d8-12cf3cfdd2c8",
     "showTitle": false,
     "tableResultSettingsMap": {},
     "title": ""
    }
   },
   "source": [
    "## 10.0 Clean up and completion of your pipeline (3 points)\n",
    "- using the utilities what streams are running? If any.\n",
    "- Stop all active streams\n",
    "- print out the elapsed time of your notebook. Note: In the includes there is a variable START_TIME that captures the starting time of the notebook."
   ]
  },
  {
   "cell_type": "code",
   "execution_count": 0,
   "metadata": {
    "application/vnd.databricks.v1+cell": {
     "cellMetadata": {
      "byteLimit": 2048000,
      "rowLimit": 10000
     },
     "inputWidgets": {},
     "nuid": "0304e685-c26e-447d-b230-c37266f30003",
     "showTitle": false,
     "tableResultSettingsMap": {},
     "title": ""
    }
   },
   "outputs": [],
   "source": [
    "# ENTER YOUR CODE HERE\n",
    "\n",
    "# What streams are running\n",
    "print(\"Streams running:\")\n",
    "for stream in spark.streams.active:\n",
    "    print(stream.name)\n",
    "\n",
    "# Stop all streams and clear all the tables\n",
    "stop_all_streams()\n",
    "clear_previous_run()\n",
    "\n",
    "# Elapsed time\n",
    "print(f\"{time.time() - START_TIME} seconds have elapsed\")"
   ]
  },
  {
   "cell_type": "markdown",
   "metadata": {
    "application/vnd.databricks.v1+cell": {
     "cellMetadata": {
      "byteLimit": 2048000,
      "rowLimit": 10000
     },
     "inputWidgets": {},
     "nuid": "b88fc0e5-f50c-4ed1-9480-16a4c8a44b30",
     "showTitle": false,
     "tableResultSettingsMap": {},
     "title": ""
    }
   },
   "source": [
    "## 11.0 How Optimized is your Spark Application (Grad Students Only) (5 points)\n",
    "Graduate students (registered for the DSCC-402 section of the course) are required to do this section.  This is a written analysis using the Spark UI (link to screen shots) that support your analysis of your pipelines execution and what is driving its performance.\n",
    "Recall that Spark Optimization has 5 significant dimensions of considertation:\n",
    "- Spill: write to executor disk due to lack of memory\n",
    "- Skew: imbalance in partition size\n",
    "- Shuffle: network io moving data between executors (wide transforms)\n",
    "- Storage: inefficiency due to disk storage format (small files, location)\n",
    "- Serialization: distribution of code segments across the cluster\n",
    "\n",
    "Comment on each of the dimentions of performance and how your impelementation is or is not being affected.  Use specific information in the Spark UI to support your description.  \n",
    "\n",
    "Note: you can take sreenshots of the Spark UI from your project runs in databricks and then link to those pictures by storing them as a publicly accessible file on your cloud drive (google, one drive, etc.)\n",
    "\n",
    "References:\n",
    "- [Spark UI Reference Reference](https://spark.apache.org/docs/latest/web-ui.html#web-ui)\n",
    "- [Spark UI Simulator](https://www.databricks.training/spark-ui-simulator/index.html)"
   ]
  },
  {
   "cell_type": "markdown",
   "metadata": {
    "application/vnd.databricks.v1+cell": {
     "cellMetadata": {
      "byteLimit": 2048000,
      "rowLimit": 10000
     },
     "inputWidgets": {},
     "nuid": "a0a5707d-a5ca-4e87-9e74-3b13d00337b0",
     "showTitle": false,
     "tableResultSettingsMap": {},
     "title": ""
    }
   },
   "source": [
    "### ENTER YOUR MARKDOWN HERE"
   ]
  }
 ],
 "metadata": {
  "application/vnd.databricks.v1+notebook": {
   "computePreferences": null,
   "dashboards": [],
   "environmentMetadata": null,
   "inputWidgetPreferences": null,
   "language": "python",
   "notebookMetadata": {
    "mostRecentlyExecutedCommandWithImplicitDF": {
     "commandId": 5309340007816202,
     "dataframes": [
      "_sqldf"
     ]
    },
    "pythonIndentUnit": 4,
    "widgetLayout": [
     {
      "breakBefore": false,
      "name": "clear_previous_run",
      "width": 203
     },
     {
      "breakBefore": false,
      "name": "stop_streams",
      "width": 203
     }
    ]
   },
   "notebookName": "Starter Streaming Tweet Sentiment - Spring 2025 Final Project",
   "widgets": {
    "clear_previous_run": {
     "currentValue": "Yes",
     "nuid": "11b43403-c70f-41ef-ab0e-41172583baaa",
     "typedWidgetInfo": {
      "autoCreated": false,
      "defaultValue": "No",
      "label": null,
      "name": "clear_previous_run",
      "options": {
       "widgetDisplayType": "Dropdown",
       "choices": [
        "No",
        "Yes"
       ],
       "fixedDomain": true,
       "multiselect": false
      },
      "parameterDataType": "String"
     },
     "widgetInfo": {
      "widgetType": "dropdown",
      "defaultValue": "No",
      "label": null,
      "name": "clear_previous_run",
      "options": {
       "widgetType": "dropdown",
       "autoCreated": null,
       "choices": [
        "No",
        "Yes"
       ]
      }
     }
    },
    "optimize_tables": {
     "currentValue": "Yes",
     "nuid": "d27f2950-3146-4010-8bc6-58c47a93e7a9",
     "typedWidgetInfo": {
      "autoCreated": false,
      "defaultValue": "No",
      "label": null,
      "name": "optimize_tables",
      "options": {
       "widgetDisplayType": "Dropdown",
       "choices": [
        "No",
        "Yes"
       ],
       "fixedDomain": true,
       "multiselect": false
      },
      "parameterDataType": "String"
     },
     "widgetInfo": {
      "widgetType": "dropdown",
      "defaultValue": "No",
      "label": null,
      "name": "optimize_tables",
      "options": {
       "widgetType": "dropdown",
       "autoCreated": null,
       "choices": [
        "No",
        "Yes"
       ]
      }
     }
    },
    "stop_streams": {
     "currentValue": "Yes",
     "nuid": "d70a2190-266e-473c-86a7-84f7bf56b386",
     "typedWidgetInfo": {
      "autoCreated": false,
      "defaultValue": "No",
      "label": null,
      "name": "stop_streams",
      "options": {
       "widgetDisplayType": "Dropdown",
       "choices": [
        "No",
        "Yes"
       ],
       "fixedDomain": true,
       "multiselect": false
      },
      "parameterDataType": "String"
     },
     "widgetInfo": {
      "widgetType": "dropdown",
      "defaultValue": "No",
      "label": null,
      "name": "stop_streams",
      "options": {
       "widgetType": "dropdown",
       "autoCreated": null,
       "choices": [
        "No",
        "Yes"
       ]
      }
     }
    }
   }
  },
  "language_info": {
   "name": "python"
  }
 },
 "nbformat": 4,
 "nbformat_minor": 0
}
